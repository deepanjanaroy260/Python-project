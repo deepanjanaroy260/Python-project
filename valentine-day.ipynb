{
 "cells": [
  {
   "cell_type": "code",
   "execution_count": 2,
   "metadata": {
    "execution": {
     "iopub.execute_input": "2024-02-08T07:26:01.427958Z",
     "iopub.status.busy": "2024-02-08T07:26:01.427173Z",
     "iopub.status.idle": "2024-02-08T07:26:01.449948Z",
     "shell.execute_reply": "2024-02-08T07:26:01.448903Z",
     "shell.execute_reply.started": "2024-02-08T07:26:01.427921Z"
    }
   },
   "outputs": [],
   "source": [
    "import pandas as pd \n",
    "import numpy as np\n",
    "import matplotlib.pyplot as plt\n",
    "import seaborn as sns\n",
    "import warnings\n",
    "warnings.filterwarnings(\"ignore\")"
   ]
  },
  {
   "cell_type": "code",
   "execution_count": 4,
   "metadata": {},
   "outputs": [],
   "source": [
    "data = pd.read_csv(\"file:///C:/Users/lenovo/Downloads/amazon_2024_valentines_best_sellers.csv\")"
   ]
  },
  {
   "cell_type": "code",
   "execution_count": 5,
   "metadata": {
    "execution": {
     "iopub.execute_input": "2024-02-08T07:26:01.866791Z",
     "iopub.status.busy": "2024-02-08T07:26:01.866344Z",
     "iopub.status.idle": "2024-02-08T07:26:01.892243Z",
     "shell.execute_reply": "2024-02-08T07:26:01.891389Z",
     "shell.execute_reply.started": "2024-02-08T07:26:01.866754Z"
    }
   },
   "outputs": [
    {
     "data": {
      "text/html": [
       "<div>\n",
       "<style scoped>\n",
       "    .dataframe tbody tr th:only-of-type {\n",
       "        vertical-align: middle;\n",
       "    }\n",
       "\n",
       "    .dataframe tbody tr th {\n",
       "        vertical-align: top;\n",
       "    }\n",
       "\n",
       "    .dataframe thead th {\n",
       "        text-align: right;\n",
       "    }\n",
       "</style>\n",
       "<table border=\"1\" class=\"dataframe\">\n",
       "  <thead>\n",
       "    <tr style=\"text-align: right;\">\n",
       "      <th></th>\n",
       "      <th>title</th>\n",
       "      <th>brand</th>\n",
       "      <th>description</th>\n",
       "      <th>starsBreakdown/3star</th>\n",
       "      <th>starsBreakdown/4star</th>\n",
       "      <th>starsBreakdown/5star</th>\n",
       "      <th>reviewsCount</th>\n",
       "      <th>price</th>\n",
       "      <th>price/currency</th>\n",
       "      <th>price/value</th>\n",
       "      <th>categoryPageData/productPosition</th>\n",
       "    </tr>\n",
       "  </thead>\n",
       "  <tbody>\n",
       "    <tr>\n",
       "      <th>0</th>\n",
       "      <td>Ferrero Rocher, 24 Count, Premium Milk Chocola...</td>\n",
       "      <td>Ferrero Rocher</td>\n",
       "      <td>Ferrero Rocher's milk chocolate gift box offer...</td>\n",
       "      <td>0.02</td>\n",
       "      <td>0.07</td>\n",
       "      <td>0.89</td>\n",
       "      <td>20021.0</td>\n",
       "      <td>NaN</td>\n",
       "      <td>$</td>\n",
       "      <td>11.39</td>\n",
       "      <td>7</td>\n",
       "    </tr>\n",
       "    <tr>\n",
       "      <th>1</th>\n",
       "      <td>HERSHEY'S NUGGETS Assorted Chocolate, Valentin...</td>\n",
       "      <td>HERSHEY'S</td>\n",
       "      <td>This HERSHEY'S NUGGETS candy assortment is fil...</td>\n",
       "      <td>0.03</td>\n",
       "      <td>0.10</td>\n",
       "      <td>0.84</td>\n",
       "      <td>18891.0</td>\n",
       "      <td>NaN</td>\n",
       "      <td>$</td>\n",
       "      <td>10.69</td>\n",
       "      <td>16</td>\n",
       "    </tr>\n",
       "    <tr>\n",
       "      <th>2</th>\n",
       "      <td>LEGO Icons Flower Bouquet Building Decoration ...</td>\n",
       "      <td>LEGO</td>\n",
       "      <td>Giving and receiving beautiful flowers is such...</td>\n",
       "      <td>0.01</td>\n",
       "      <td>0.05</td>\n",
       "      <td>0.92</td>\n",
       "      <td>19395.0</td>\n",
       "      <td>NaN</td>\n",
       "      <td>$</td>\n",
       "      <td>47.99</td>\n",
       "      <td>2</td>\n",
       "    </tr>\n",
       "    <tr>\n",
       "      <th>3</th>\n",
       "      <td>BodyRefresh Shower Steamers Aromatherapy - 8 P...</td>\n",
       "      <td>BodyRefresh</td>\n",
       "      <td>NaN</td>\n",
       "      <td>0.07</td>\n",
       "      <td>0.15</td>\n",
       "      <td>0.67</td>\n",
       "      <td>593.0</td>\n",
       "      <td>NaN</td>\n",
       "      <td>$</td>\n",
       "      <td>9.99</td>\n",
       "      <td>10</td>\n",
       "    </tr>\n",
       "    <tr>\n",
       "      <th>4</th>\n",
       "      <td>JoJowell Shower Steamers Aromatherapy - 21Pcs ...</td>\n",
       "      <td>JoJowell</td>\n",
       "      <td>NaN</td>\n",
       "      <td>0.10</td>\n",
       "      <td>0.15</td>\n",
       "      <td>0.63</td>\n",
       "      <td>816.0</td>\n",
       "      <td>NaN</td>\n",
       "      <td>$</td>\n",
       "      <td>21.99</td>\n",
       "      <td>11</td>\n",
       "    </tr>\n",
       "  </tbody>\n",
       "</table>\n",
       "</div>"
      ],
      "text/plain": [
       "                                               title           brand  \\\n",
       "0  Ferrero Rocher, 24 Count, Premium Milk Chocola...  Ferrero Rocher   \n",
       "1  HERSHEY'S NUGGETS Assorted Chocolate, Valentin...       HERSHEY'S   \n",
       "2  LEGO Icons Flower Bouquet Building Decoration ...            LEGO   \n",
       "3  BodyRefresh Shower Steamers Aromatherapy - 8 P...     BodyRefresh   \n",
       "4  JoJowell Shower Steamers Aromatherapy - 21Pcs ...        JoJowell   \n",
       "\n",
       "                                         description  starsBreakdown/3star  \\\n",
       "0  Ferrero Rocher's milk chocolate gift box offer...                  0.02   \n",
       "1  This HERSHEY'S NUGGETS candy assortment is fil...                  0.03   \n",
       "2  Giving and receiving beautiful flowers is such...                  0.01   \n",
       "3                                                NaN                  0.07   \n",
       "4                                                NaN                  0.10   \n",
       "\n",
       "   starsBreakdown/4star  starsBreakdown/5star  reviewsCount  price  \\\n",
       "0                  0.07                  0.89       20021.0    NaN   \n",
       "1                  0.10                  0.84       18891.0    NaN   \n",
       "2                  0.05                  0.92       19395.0    NaN   \n",
       "3                  0.15                  0.67         593.0    NaN   \n",
       "4                  0.15                  0.63         816.0    NaN   \n",
       "\n",
       "  price/currency  price/value  categoryPageData/productPosition  \n",
       "0              $        11.39                                 7  \n",
       "1              $        10.69                                16  \n",
       "2              $        47.99                                 2  \n",
       "3              $         9.99                                10  \n",
       "4              $        21.99                                11  "
      ]
     },
     "execution_count": 5,
     "metadata": {},
     "output_type": "execute_result"
    }
   ],
   "source": [
    "data.head()"
   ]
  },
  {
   "cell_type": "code",
   "execution_count": 6,
   "metadata": {
    "execution": {
     "iopub.execute_input": "2024-02-08T07:26:02.280911Z",
     "iopub.status.busy": "2024-02-08T07:26:02.280374Z",
     "iopub.status.idle": "2024-02-08T07:26:02.289869Z",
     "shell.execute_reply": "2024-02-08T07:26:02.288222Z",
     "shell.execute_reply.started": "2024-02-08T07:26:02.280868Z"
    }
   },
   "outputs": [
    {
     "data": {
      "text/plain": [
       "(218, 11)"
      ]
     },
     "execution_count": 6,
     "metadata": {},
     "output_type": "execute_result"
    }
   ],
   "source": [
    "data.shape"
   ]
  },
  {
   "cell_type": "code",
   "execution_count": 7,
   "metadata": {
    "execution": {
     "iopub.execute_input": "2024-02-08T07:26:02.618443Z",
     "iopub.status.busy": "2024-02-08T07:26:02.618052Z",
     "iopub.status.idle": "2024-02-08T07:26:02.631755Z",
     "shell.execute_reply": "2024-02-08T07:26:02.630372Z",
     "shell.execute_reply.started": "2024-02-08T07:26:02.618412Z"
    }
   },
   "outputs": [
    {
     "data": {
      "text/plain": [
       "title                                 0.000000\n",
       "brand                                 0.458716\n",
       "description                          78.899083\n",
       "starsBreakdown/3star                  0.000000\n",
       "starsBreakdown/4star                  0.000000\n",
       "starsBreakdown/5star                  0.000000\n",
       "reviewsCount                          0.917431\n",
       "price                               100.000000\n",
       "price/currency                       22.477064\n",
       "price/value                          22.477064\n",
       "categoryPageData/productPosition      0.000000\n",
       "dtype: float64"
      ]
     },
     "execution_count": 7,
     "metadata": {},
     "output_type": "execute_result"
    }
   ],
   "source": [
    "# understanding of the data\n",
    "(data.isnull().sum() / data.shape[0])*100"
   ]
  },
  {
   "cell_type": "markdown",
   "metadata": {},
   "source": [
    "### Handling the null Values"
   ]
  },
  {
   "cell_type": "code",
   "execution_count": 8,
   "metadata": {
    "execution": {
     "iopub.execute_input": "2024-02-08T07:26:03.157207Z",
     "iopub.status.busy": "2024-02-08T07:26:03.155995Z",
     "iopub.status.idle": "2024-02-08T07:26:03.169248Z",
     "shell.execute_reply": "2024-02-08T07:26:03.168011Z",
     "shell.execute_reply.started": "2024-02-08T07:26:03.157164Z"
    }
   },
   "outputs": [],
   "source": [
    "#Dropping the null column more than 40%\n",
    "data.drop([\"price\",\"description\"],axis = 1, inplace = True)"
   ]
  },
  {
   "cell_type": "code",
   "execution_count": 9,
   "metadata": {
    "execution": {
     "iopub.execute_input": "2024-02-08T07:26:03.442126Z",
     "iopub.status.busy": "2024-02-08T07:26:03.441143Z",
     "iopub.status.idle": "2024-02-08T07:26:03.458184Z",
     "shell.execute_reply": "2024-02-08T07:26:03.457020Z",
     "shell.execute_reply.started": "2024-02-08T07:26:03.442088Z"
    }
   },
   "outputs": [
    {
     "data": {
      "text/html": [
       "<div>\n",
       "<style scoped>\n",
       "    .dataframe tbody tr th:only-of-type {\n",
       "        vertical-align: middle;\n",
       "    }\n",
       "\n",
       "    .dataframe tbody tr th {\n",
       "        vertical-align: top;\n",
       "    }\n",
       "\n",
       "    .dataframe thead th {\n",
       "        text-align: right;\n",
       "    }\n",
       "</style>\n",
       "<table border=\"1\" class=\"dataframe\">\n",
       "  <thead>\n",
       "    <tr style=\"text-align: right;\">\n",
       "      <th></th>\n",
       "      <th>title</th>\n",
       "      <th>brand</th>\n",
       "      <th>starsBreakdown/3star</th>\n",
       "      <th>starsBreakdown/4star</th>\n",
       "      <th>starsBreakdown/5star</th>\n",
       "      <th>reviewsCount</th>\n",
       "      <th>price/currency</th>\n",
       "      <th>price/value</th>\n",
       "      <th>categoryPageData/productPosition</th>\n",
       "    </tr>\n",
       "  </thead>\n",
       "  <tbody>\n",
       "    <tr>\n",
       "      <th>0</th>\n",
       "      <td>Ferrero Rocher, 24 Count, Premium Milk Chocola...</td>\n",
       "      <td>Ferrero Rocher</td>\n",
       "      <td>0.02</td>\n",
       "      <td>0.07</td>\n",
       "      <td>0.89</td>\n",
       "      <td>20021.0</td>\n",
       "      <td>$</td>\n",
       "      <td>11.39</td>\n",
       "      <td>7</td>\n",
       "    </tr>\n",
       "    <tr>\n",
       "      <th>1</th>\n",
       "      <td>HERSHEY'S NUGGETS Assorted Chocolate, Valentin...</td>\n",
       "      <td>HERSHEY'S</td>\n",
       "      <td>0.03</td>\n",
       "      <td>0.10</td>\n",
       "      <td>0.84</td>\n",
       "      <td>18891.0</td>\n",
       "      <td>$</td>\n",
       "      <td>10.69</td>\n",
       "      <td>16</td>\n",
       "    </tr>\n",
       "    <tr>\n",
       "      <th>2</th>\n",
       "      <td>LEGO Icons Flower Bouquet Building Decoration ...</td>\n",
       "      <td>LEGO</td>\n",
       "      <td>0.01</td>\n",
       "      <td>0.05</td>\n",
       "      <td>0.92</td>\n",
       "      <td>19395.0</td>\n",
       "      <td>$</td>\n",
       "      <td>47.99</td>\n",
       "      <td>2</td>\n",
       "    </tr>\n",
       "    <tr>\n",
       "      <th>3</th>\n",
       "      <td>BodyRefresh Shower Steamers Aromatherapy - 8 P...</td>\n",
       "      <td>BodyRefresh</td>\n",
       "      <td>0.07</td>\n",
       "      <td>0.15</td>\n",
       "      <td>0.67</td>\n",
       "      <td>593.0</td>\n",
       "      <td>$</td>\n",
       "      <td>9.99</td>\n",
       "      <td>10</td>\n",
       "    </tr>\n",
       "    <tr>\n",
       "      <th>4</th>\n",
       "      <td>JoJowell Shower Steamers Aromatherapy - 21Pcs ...</td>\n",
       "      <td>JoJowell</td>\n",
       "      <td>0.10</td>\n",
       "      <td>0.15</td>\n",
       "      <td>0.63</td>\n",
       "      <td>816.0</td>\n",
       "      <td>$</td>\n",
       "      <td>21.99</td>\n",
       "      <td>11</td>\n",
       "    </tr>\n",
       "  </tbody>\n",
       "</table>\n",
       "</div>"
      ],
      "text/plain": [
       "                                               title           brand  \\\n",
       "0  Ferrero Rocher, 24 Count, Premium Milk Chocola...  Ferrero Rocher   \n",
       "1  HERSHEY'S NUGGETS Assorted Chocolate, Valentin...       HERSHEY'S   \n",
       "2  LEGO Icons Flower Bouquet Building Decoration ...            LEGO   \n",
       "3  BodyRefresh Shower Steamers Aromatherapy - 8 P...     BodyRefresh   \n",
       "4  JoJowell Shower Steamers Aromatherapy - 21Pcs ...        JoJowell   \n",
       "\n",
       "   starsBreakdown/3star  starsBreakdown/4star  starsBreakdown/5star  \\\n",
       "0                  0.02                  0.07                  0.89   \n",
       "1                  0.03                  0.10                  0.84   \n",
       "2                  0.01                  0.05                  0.92   \n",
       "3                  0.07                  0.15                  0.67   \n",
       "4                  0.10                  0.15                  0.63   \n",
       "\n",
       "   reviewsCount price/currency  price/value  categoryPageData/productPosition  \n",
       "0       20021.0              $        11.39                                 7  \n",
       "1       18891.0              $        10.69                                16  \n",
       "2       19395.0              $        47.99                                 2  \n",
       "3         593.0              $         9.99                                10  \n",
       "4         816.0              $        21.99                                11  "
      ]
     },
     "execution_count": 9,
     "metadata": {},
     "output_type": "execute_result"
    }
   ],
   "source": [
    "data.head()"
   ]
  },
  {
   "cell_type": "code",
   "execution_count": 10,
   "metadata": {
    "execution": {
     "iopub.execute_input": "2024-02-08T07:26:03.717066Z",
     "iopub.status.busy": "2024-02-08T07:26:03.716659Z",
     "iopub.status.idle": "2024-02-08T07:26:03.730857Z",
     "shell.execute_reply": "2024-02-08T07:26:03.729397Z",
     "shell.execute_reply.started": "2024-02-08T07:26:03.717031Z"
    }
   },
   "outputs": [
    {
     "data": {
      "text/plain": [
       "$      169\n",
       "NaN     49\n",
       "Name: price/currency, dtype: int64"
      ]
     },
     "execution_count": 10,
     "metadata": {},
     "output_type": "execute_result"
    }
   ],
   "source": [
    "data[\"price/currency\"].value_counts(dropna = False)"
   ]
  },
  {
   "cell_type": "code",
   "execution_count": 11,
   "metadata": {
    "execution": {
     "iopub.execute_input": "2024-02-08T07:26:03.983673Z",
     "iopub.status.busy": "2024-02-08T07:26:03.983239Z",
     "iopub.status.idle": "2024-02-08T07:26:04.004705Z",
     "shell.execute_reply": "2024-02-08T07:26:04.003533Z",
     "shell.execute_reply.started": "2024-02-08T07:26:03.983636Z"
    }
   },
   "outputs": [
    {
     "data": {
      "text/html": [
       "<div>\n",
       "<style scoped>\n",
       "    .dataframe tbody tr th:only-of-type {\n",
       "        vertical-align: middle;\n",
       "    }\n",
       "\n",
       "    .dataframe tbody tr th {\n",
       "        vertical-align: top;\n",
       "    }\n",
       "\n",
       "    .dataframe thead th {\n",
       "        text-align: right;\n",
       "    }\n",
       "</style>\n",
       "<table border=\"1\" class=\"dataframe\">\n",
       "  <thead>\n",
       "    <tr style=\"text-align: right;\">\n",
       "      <th></th>\n",
       "      <th>title</th>\n",
       "      <th>brand</th>\n",
       "      <th>starsBreakdown/3star</th>\n",
       "      <th>starsBreakdown/4star</th>\n",
       "      <th>starsBreakdown/5star</th>\n",
       "      <th>reviewsCount</th>\n",
       "      <th>price/currency</th>\n",
       "      <th>price/value</th>\n",
       "      <th>categoryPageData/productPosition</th>\n",
       "    </tr>\n",
       "  </thead>\n",
       "  <tbody>\n",
       "    <tr>\n",
       "      <th>16</th>\n",
       "      <td>I LOVE YOU Red Valentine Chocolate Dipped Oreo...</td>\n",
       "      <td>Olde Naples Chocolate</td>\n",
       "      <td>0.07</td>\n",
       "      <td>0.10</td>\n",
       "      <td>0.74</td>\n",
       "      <td>474.0</td>\n",
       "      <td>NaN</td>\n",
       "      <td>NaN</td>\n",
       "      <td>34</td>\n",
       "    </tr>\n",
       "    <tr>\n",
       "      <th>18</th>\n",
       "      <td>Ferrero Collection, 12 Count, Assorted Milk an...</td>\n",
       "      <td>Ferrero Rocher</td>\n",
       "      <td>0.04</td>\n",
       "      <td>0.09</td>\n",
       "      <td>0.84</td>\n",
       "      <td>4770.0</td>\n",
       "      <td>NaN</td>\n",
       "      <td>NaN</td>\n",
       "      <td>38</td>\n",
       "    </tr>\n",
       "    <tr>\n",
       "      <th>20</th>\n",
       "      <td>Marycele Candle Warmer Lamp, Electric Candle L...</td>\n",
       "      <td>Marycele</td>\n",
       "      <td>0.05</td>\n",
       "      <td>0.07</td>\n",
       "      <td>0.78</td>\n",
       "      <td>1121.0</td>\n",
       "      <td>NaN</td>\n",
       "      <td>NaN</td>\n",
       "      <td>47</td>\n",
       "    </tr>\n",
       "    <tr>\n",
       "      <th>24</th>\n",
       "      <td>SKITTLES Valentine's Day Wild Berry Chewy Cand...</td>\n",
       "      <td>Skittles</td>\n",
       "      <td>0.05</td>\n",
       "      <td>0.10</td>\n",
       "      <td>0.79</td>\n",
       "      <td>19772.0</td>\n",
       "      <td>NaN</td>\n",
       "      <td>NaN</td>\n",
       "      <td>30</td>\n",
       "    </tr>\n",
       "    <tr>\n",
       "      <th>27</th>\n",
       "      <td>EGD Acrylic Personalized Gifts Spotify Plaque ...</td>\n",
       "      <td>EGD</td>\n",
       "      <td>0.06</td>\n",
       "      <td>0.10</td>\n",
       "      <td>0.72</td>\n",
       "      <td>4717.0</td>\n",
       "      <td>NaN</td>\n",
       "      <td>NaN</td>\n",
       "      <td>25</td>\n",
       "    </tr>\n",
       "  </tbody>\n",
       "</table>\n",
       "</div>"
      ],
      "text/plain": [
       "                                                title                  brand  \\\n",
       "16  I LOVE YOU Red Valentine Chocolate Dipped Oreo...  Olde Naples Chocolate   \n",
       "18  Ferrero Collection, 12 Count, Assorted Milk an...         Ferrero Rocher   \n",
       "20  Marycele Candle Warmer Lamp, Electric Candle L...               Marycele   \n",
       "24  SKITTLES Valentine's Day Wild Berry Chewy Cand...               Skittles   \n",
       "27  EGD Acrylic Personalized Gifts Spotify Plaque ...                    EGD   \n",
       "\n",
       "    starsBreakdown/3star  starsBreakdown/4star  starsBreakdown/5star  \\\n",
       "16                  0.07                  0.10                  0.74   \n",
       "18                  0.04                  0.09                  0.84   \n",
       "20                  0.05                  0.07                  0.78   \n",
       "24                  0.05                  0.10                  0.79   \n",
       "27                  0.06                  0.10                  0.72   \n",
       "\n",
       "    reviewsCount price/currency  price/value  categoryPageData/productPosition  \n",
       "16         474.0            NaN          NaN                                34  \n",
       "18        4770.0            NaN          NaN                                38  \n",
       "20        1121.0            NaN          NaN                                47  \n",
       "24       19772.0            NaN          NaN                                30  \n",
       "27        4717.0            NaN          NaN                                25  "
      ]
     },
     "execution_count": 11,
     "metadata": {},
     "output_type": "execute_result"
    }
   ],
   "source": [
    "data[data[\"price/currency\"].isnull()].head()"
   ]
  },
  {
   "cell_type": "code",
   "execution_count": 12,
   "metadata": {
    "execution": {
     "iopub.execute_input": "2024-02-08T07:26:04.249560Z",
     "iopub.status.busy": "2024-02-08T07:26:04.249138Z",
     "iopub.status.idle": "2024-02-08T07:26:04.258108Z",
     "shell.execute_reply": "2024-02-08T07:26:04.257024Z",
     "shell.execute_reply.started": "2024-02-08T07:26:04.249526Z"
    }
   },
   "outputs": [],
   "source": [
    "data[\"price/currency\"].fillna(data[\"price/currency\"].mode()[0], inplace = True)"
   ]
  },
  {
   "cell_type": "code",
   "execution_count": 13,
   "metadata": {
    "execution": {
     "iopub.execute_input": "2024-02-08T07:26:04.468544Z",
     "iopub.status.busy": "2024-02-08T07:26:04.468092Z",
     "iopub.status.idle": "2024-02-08T07:26:04.476550Z",
     "shell.execute_reply": "2024-02-08T07:26:04.475288Z",
     "shell.execute_reply.started": "2024-02-08T07:26:04.468474Z"
    }
   },
   "outputs": [
    {
     "data": {
      "text/plain": [
       "0"
      ]
     },
     "execution_count": 13,
     "metadata": {},
     "output_type": "execute_result"
    }
   ],
   "source": [
    "data[\"price/currency\"].isnull().sum()"
   ]
  },
  {
   "cell_type": "code",
   "execution_count": 14,
   "metadata": {
    "execution": {
     "iopub.execute_input": "2024-02-08T07:26:04.761444Z",
     "iopub.status.busy": "2024-02-08T07:26:04.760982Z",
     "iopub.status.idle": "2024-02-08T07:26:04.806718Z",
     "shell.execute_reply": "2024-02-08T07:26:04.805590Z",
     "shell.execute_reply.started": "2024-02-08T07:26:04.761407Z"
    }
   },
   "outputs": [
    {
     "data": {
      "text/html": [
       "<div>\n",
       "<style scoped>\n",
       "    .dataframe tbody tr th:only-of-type {\n",
       "        vertical-align: middle;\n",
       "    }\n",
       "\n",
       "    .dataframe tbody tr th {\n",
       "        vertical-align: top;\n",
       "    }\n",
       "\n",
       "    .dataframe thead th {\n",
       "        text-align: right;\n",
       "    }\n",
       "</style>\n",
       "<table border=\"1\" class=\"dataframe\">\n",
       "  <thead>\n",
       "    <tr style=\"text-align: right;\">\n",
       "      <th></th>\n",
       "      <th>title</th>\n",
       "      <th>brand</th>\n",
       "      <th>starsBreakdown/3star</th>\n",
       "      <th>starsBreakdown/4star</th>\n",
       "      <th>starsBreakdown/5star</th>\n",
       "      <th>reviewsCount</th>\n",
       "      <th>price/currency</th>\n",
       "      <th>price/value</th>\n",
       "      <th>categoryPageData/productPosition</th>\n",
       "    </tr>\n",
       "  </thead>\n",
       "  <tbody>\n",
       "    <tr>\n",
       "      <th>16</th>\n",
       "      <td>I LOVE YOU Red Valentine Chocolate Dipped Oreo...</td>\n",
       "      <td>Olde Naples Chocolate</td>\n",
       "      <td>0.07</td>\n",
       "      <td>0.10</td>\n",
       "      <td>0.74</td>\n",
       "      <td>474.0</td>\n",
       "      <td>$</td>\n",
       "      <td>NaN</td>\n",
       "      <td>34</td>\n",
       "    </tr>\n",
       "    <tr>\n",
       "      <th>18</th>\n",
       "      <td>Ferrero Collection, 12 Count, Assorted Milk an...</td>\n",
       "      <td>Ferrero Rocher</td>\n",
       "      <td>0.04</td>\n",
       "      <td>0.09</td>\n",
       "      <td>0.84</td>\n",
       "      <td>4770.0</td>\n",
       "      <td>$</td>\n",
       "      <td>NaN</td>\n",
       "      <td>38</td>\n",
       "    </tr>\n",
       "    <tr>\n",
       "      <th>20</th>\n",
       "      <td>Marycele Candle Warmer Lamp, Electric Candle L...</td>\n",
       "      <td>Marycele</td>\n",
       "      <td>0.05</td>\n",
       "      <td>0.07</td>\n",
       "      <td>0.78</td>\n",
       "      <td>1121.0</td>\n",
       "      <td>$</td>\n",
       "      <td>NaN</td>\n",
       "      <td>47</td>\n",
       "    </tr>\n",
       "    <tr>\n",
       "      <th>24</th>\n",
       "      <td>SKITTLES Valentine's Day Wild Berry Chewy Cand...</td>\n",
       "      <td>Skittles</td>\n",
       "      <td>0.05</td>\n",
       "      <td>0.10</td>\n",
       "      <td>0.79</td>\n",
       "      <td>19772.0</td>\n",
       "      <td>$</td>\n",
       "      <td>NaN</td>\n",
       "      <td>30</td>\n",
       "    </tr>\n",
       "    <tr>\n",
       "      <th>27</th>\n",
       "      <td>EGD Acrylic Personalized Gifts Spotify Plaque ...</td>\n",
       "      <td>EGD</td>\n",
       "      <td>0.06</td>\n",
       "      <td>0.10</td>\n",
       "      <td>0.72</td>\n",
       "      <td>4717.0</td>\n",
       "      <td>$</td>\n",
       "      <td>NaN</td>\n",
       "      <td>25</td>\n",
       "    </tr>\n",
       "    <tr>\n",
       "      <th>29</th>\n",
       "      <td>Burt's Bees Essential Everyday Beauty Valentin...</td>\n",
       "      <td>Burt's Bees</td>\n",
       "      <td>0.04</td>\n",
       "      <td>0.11</td>\n",
       "      <td>0.83</td>\n",
       "      <td>40125.0</td>\n",
       "      <td>$</td>\n",
       "      <td>NaN</td>\n",
       "      <td>39</td>\n",
       "    </tr>\n",
       "    <tr>\n",
       "      <th>33</th>\n",
       "      <td>Candles Gifts for Her Funny Novelty Unique Val...</td>\n",
       "      <td>BFJLIFE</td>\n",
       "      <td>0.07</td>\n",
       "      <td>0.12</td>\n",
       "      <td>0.73</td>\n",
       "      <td>316.0</td>\n",
       "      <td>$</td>\n",
       "      <td>NaN</td>\n",
       "      <td>23</td>\n",
       "    </tr>\n",
       "    <tr>\n",
       "      <th>36</th>\n",
       "      <td>EBMORE Womens Fuzzy Socks Slipper Soft Cabin P...</td>\n",
       "      <td>EBMORE</td>\n",
       "      <td>0.04</td>\n",
       "      <td>0.10</td>\n",
       "      <td>0.82</td>\n",
       "      <td>3214.0</td>\n",
       "      <td>$</td>\n",
       "      <td>NaN</td>\n",
       "      <td>28</td>\n",
       "    </tr>\n",
       "    <tr>\n",
       "      <th>38</th>\n",
       "      <td>Valentine's Day Gift Care Package (50ct) Snack...</td>\n",
       "      <td>CRAVEBOX</td>\n",
       "      <td>0.06</td>\n",
       "      <td>0.11</td>\n",
       "      <td>0.77</td>\n",
       "      <td>2637.0</td>\n",
       "      <td>$</td>\n",
       "      <td>NaN</td>\n",
       "      <td>17</td>\n",
       "    </tr>\n",
       "    <tr>\n",
       "      <th>39</th>\n",
       "      <td>LUCKOR Personalized Valentines Day Gifts for H...</td>\n",
       "      <td>LUCKOR</td>\n",
       "      <td>0.04</td>\n",
       "      <td>0.08</td>\n",
       "      <td>0.75</td>\n",
       "      <td>398.0</td>\n",
       "      <td>$</td>\n",
       "      <td>NaN</td>\n",
       "      <td>9</td>\n",
       "    </tr>\n",
       "    <tr>\n",
       "      <th>41</th>\n",
       "      <td>LEGO Heart Ornament Building Toy Kit, Heart Sh...</td>\n",
       "      <td>LEGO</td>\n",
       "      <td>0.02</td>\n",
       "      <td>0.07</td>\n",
       "      <td>0.87</td>\n",
       "      <td>401.0</td>\n",
       "      <td>$</td>\n",
       "      <td>NaN</td>\n",
       "      <td>13</td>\n",
       "    </tr>\n",
       "    <tr>\n",
       "      <th>42</th>\n",
       "      <td>HERSHEY'S and REESE'S Assorted Chocolate, Vale...</td>\n",
       "      <td>HERSHEY'S</td>\n",
       "      <td>0.04</td>\n",
       "      <td>0.09</td>\n",
       "      <td>0.84</td>\n",
       "      <td>1586.0</td>\n",
       "      <td>$</td>\n",
       "      <td>NaN</td>\n",
       "      <td>6</td>\n",
       "    </tr>\n",
       "    <tr>\n",
       "      <th>43</th>\n",
       "      <td>Ferrero Rocher, 42 Count, Gourmet Milk Chocola...</td>\n",
       "      <td>Ferrero Rocher</td>\n",
       "      <td>0.02</td>\n",
       "      <td>0.06</td>\n",
       "      <td>0.89</td>\n",
       "      <td>9659.0</td>\n",
       "      <td>$</td>\n",
       "      <td>NaN</td>\n",
       "      <td>12</td>\n",
       "    </tr>\n",
       "    <tr>\n",
       "      <th>46</th>\n",
       "      <td>LEGO Icons Wildflower Bouquet Botanical Collec...</td>\n",
       "      <td>LEGO</td>\n",
       "      <td>0.01</td>\n",
       "      <td>0.04</td>\n",
       "      <td>0.94</td>\n",
       "      <td>3510.0</td>\n",
       "      <td>$</td>\n",
       "      <td>NaN</td>\n",
       "      <td>8</td>\n",
       "    </tr>\n",
       "    <tr>\n",
       "      <th>51</th>\n",
       "      <td>Valentine’s Candy Variety Pack 18 Count: Bulk ...</td>\n",
       "      <td>Bazooka Candy Brands</td>\n",
       "      <td>0.03</td>\n",
       "      <td>0.08</td>\n",
       "      <td>0.86</td>\n",
       "      <td>27866.0</td>\n",
       "      <td>$</td>\n",
       "      <td>NaN</td>\n",
       "      <td>54</td>\n",
       "    </tr>\n",
       "    <tr>\n",
       "      <th>52</th>\n",
       "      <td>Valentines Day Gifts Movie Night Popcorn Gift ...</td>\n",
       "      <td>Pop n' Dulge</td>\n",
       "      <td>0.09</td>\n",
       "      <td>0.15</td>\n",
       "      <td>0.69</td>\n",
       "      <td>522.0</td>\n",
       "      <td>$</td>\n",
       "      <td>NaN</td>\n",
       "      <td>53</td>\n",
       "    </tr>\n",
       "    <tr>\n",
       "      <th>54</th>\n",
       "      <td>BAIMEI Jade Roller &amp; Gua Sha, Face Roller Redn...</td>\n",
       "      <td>BAIMEI</td>\n",
       "      <td>0.06</td>\n",
       "      <td>0.14</td>\n",
       "      <td>0.77</td>\n",
       "      <td>54895.0</td>\n",
       "      <td>$</td>\n",
       "      <td>NaN</td>\n",
       "      <td>58</td>\n",
       "    </tr>\n",
       "    <tr>\n",
       "      <th>57</th>\n",
       "      <td>Gifts for Women, Unique Spa Gift Basket Set fo...</td>\n",
       "      <td>MADDIFY</td>\n",
       "      <td>0.04</td>\n",
       "      <td>0.17</td>\n",
       "      <td>0.77</td>\n",
       "      <td>132.0</td>\n",
       "      <td>$</td>\n",
       "      <td>NaN</td>\n",
       "      <td>60</td>\n",
       "    </tr>\n",
       "    <tr>\n",
       "      <th>59</th>\n",
       "      <td>Nut Cravings Gourmet Collection - Valentines D...</td>\n",
       "      <td>Nut Cravings</td>\n",
       "      <td>0.06</td>\n",
       "      <td>0.12</td>\n",
       "      <td>0.70</td>\n",
       "      <td>19537.0</td>\n",
       "      <td>$</td>\n",
       "      <td>NaN</td>\n",
       "      <td>93</td>\n",
       "    </tr>\n",
       "    <tr>\n",
       "      <th>60</th>\n",
       "      <td>ChunRun Valentines Day Gifts - Drive Safe Keyc...</td>\n",
       "      <td>ChunRun</td>\n",
       "      <td>0.04</td>\n",
       "      <td>0.06</td>\n",
       "      <td>0.85</td>\n",
       "      <td>54.0</td>\n",
       "      <td>$</td>\n",
       "      <td>NaN</td>\n",
       "      <td>52</td>\n",
       "    </tr>\n",
       "    <tr>\n",
       "      <th>63</th>\n",
       "      <td>REESESValentines Day Milk Chocolate Peanut But...</td>\n",
       "      <td>CHAIN &amp; JO SWEETS</td>\n",
       "      <td>0.06</td>\n",
       "      <td>0.09</td>\n",
       "      <td>0.67</td>\n",
       "      <td>161.0</td>\n",
       "      <td>$</td>\n",
       "      <td>NaN</td>\n",
       "      <td>91</td>\n",
       "    </tr>\n",
       "    <tr>\n",
       "      <th>64</th>\n",
       "      <td>Starburst All Pink Chewy Candy Variety Pack Va...</td>\n",
       "      <td>JO SWEETS</td>\n",
       "      <td>0.07</td>\n",
       "      <td>0.13</td>\n",
       "      <td>0.50</td>\n",
       "      <td>63.0</td>\n",
       "      <td>$</td>\n",
       "      <td>NaN</td>\n",
       "      <td>85</td>\n",
       "    </tr>\n",
       "    <tr>\n",
       "      <th>72</th>\n",
       "      <td>Shower Steamers Aromatherapy Valentines Day Gi...</td>\n",
       "      <td>SWCANDY</td>\n",
       "      <td>0.09</td>\n",
       "      <td>0.10</td>\n",
       "      <td>0.72</td>\n",
       "      <td>3082.0</td>\n",
       "      <td>$</td>\n",
       "      <td>NaN</td>\n",
       "      <td>76</td>\n",
       "    </tr>\n",
       "    <tr>\n",
       "      <th>77</th>\n",
       "      <td>Childom Valentines Day Gifts for Her,Birthday ...</td>\n",
       "      <td>Childom</td>\n",
       "      <td>0.04</td>\n",
       "      <td>0.10</td>\n",
       "      <td>0.83</td>\n",
       "      <td>18440.0</td>\n",
       "      <td>$</td>\n",
       "      <td>NaN</td>\n",
       "      <td>69</td>\n",
       "    </tr>\n",
       "    <tr>\n",
       "      <th>84</th>\n",
       "      <td>ChocZero Keto Chocolate Truffle Gift - Premium...</td>\n",
       "      <td>ChocZero</td>\n",
       "      <td>0.05</td>\n",
       "      <td>0.10</td>\n",
       "      <td>0.77</td>\n",
       "      <td>370.0</td>\n",
       "      <td>$</td>\n",
       "      <td>NaN</td>\n",
       "      <td>64</td>\n",
       "    </tr>\n",
       "    <tr>\n",
       "      <th>85</th>\n",
       "      <td>HERSHEY'S HUGS &amp; KISSES Assorted Flavored, Val...</td>\n",
       "      <td>HERSHEY'S</td>\n",
       "      <td>0.04</td>\n",
       "      <td>0.09</td>\n",
       "      <td>0.85</td>\n",
       "      <td>1647.0</td>\n",
       "      <td>$</td>\n",
       "      <td>NaN</td>\n",
       "      <td>61</td>\n",
       "    </tr>\n",
       "    <tr>\n",
       "      <th>86</th>\n",
       "      <td>Kinder Bueno Mini, Milk Chocolate and Hazelnut...</td>\n",
       "      <td>Kinder Bueno</td>\n",
       "      <td>0.02</td>\n",
       "      <td>0.06</td>\n",
       "      <td>0.88</td>\n",
       "      <td>11111.0</td>\n",
       "      <td>$</td>\n",
       "      <td>NaN</td>\n",
       "      <td>63</td>\n",
       "    </tr>\n",
       "    <tr>\n",
       "      <th>89</th>\n",
       "      <td>Gifts for Women, Mom - Relaxing Spa Gift Baske...</td>\n",
       "      <td>CITTA</td>\n",
       "      <td>0.02</td>\n",
       "      <td>0.08</td>\n",
       "      <td>0.88</td>\n",
       "      <td>567.0</td>\n",
       "      <td>$</td>\n",
       "      <td>NaN</td>\n",
       "      <td>81</td>\n",
       "    </tr>\n",
       "    <tr>\n",
       "      <th>95</th>\n",
       "      <td>Ferrero Collection, 16 Count, Assorted Milk an...</td>\n",
       "      <td>Ferrero Rocher</td>\n",
       "      <td>0.03</td>\n",
       "      <td>0.09</td>\n",
       "      <td>0.85</td>\n",
       "      <td>29239.0</td>\n",
       "      <td>$</td>\n",
       "      <td>NaN</td>\n",
       "      <td>86</td>\n",
       "    </tr>\n",
       "    <tr>\n",
       "      <th>96</th>\n",
       "      <td>28 Packs Valentines Day Greeting Cards with Cu...</td>\n",
       "      <td>DINESIL</td>\n",
       "      <td>0.09</td>\n",
       "      <td>0.15</td>\n",
       "      <td>0.70</td>\n",
       "      <td>215.0</td>\n",
       "      <td>$</td>\n",
       "      <td>NaN</td>\n",
       "      <td>80</td>\n",
       "    </tr>\n",
       "    <tr>\n",
       "      <th>107</th>\n",
       "      <td>Pusuny Valentines Day Gifts for Her, Galaxy Gl...</td>\n",
       "      <td>Pusuny</td>\n",
       "      <td>0.06</td>\n",
       "      <td>0.10</td>\n",
       "      <td>0.80</td>\n",
       "      <td>578.0</td>\n",
       "      <td>$</td>\n",
       "      <td>NaN</td>\n",
       "      <td>110</td>\n",
       "    </tr>\n",
       "    <tr>\n",
       "      <th>115</th>\n",
       "      <td>Valentines Day Gifts for Her Preserved Red Rea...</td>\n",
       "      <td>TRAALL</td>\n",
       "      <td>0.04</td>\n",
       "      <td>0.06</td>\n",
       "      <td>0.85</td>\n",
       "      <td>140.0</td>\n",
       "      <td>$</td>\n",
       "      <td>NaN</td>\n",
       "      <td>122</td>\n",
       "    </tr>\n",
       "    <tr>\n",
       "      <th>116</th>\n",
       "      <td>Inspirational Bracelets for Women Natural Ston...</td>\n",
       "      <td>Pingyongchang</td>\n",
       "      <td>0.03</td>\n",
       "      <td>0.12</td>\n",
       "      <td>0.80</td>\n",
       "      <td>98.0</td>\n",
       "      <td>$</td>\n",
       "      <td>NaN</td>\n",
       "      <td>131</td>\n",
       "    </tr>\n",
       "    <tr>\n",
       "      <th>119</th>\n",
       "      <td>LParkin Drive Safe Keychain Handsome I Love Yo...</td>\n",
       "      <td>LParkin</td>\n",
       "      <td>0.03</td>\n",
       "      <td>0.08</td>\n",
       "      <td>0.88</td>\n",
       "      <td>11974.0</td>\n",
       "      <td>$</td>\n",
       "      <td>NaN</td>\n",
       "      <td>115</td>\n",
       "    </tr>\n",
       "    <tr>\n",
       "      <th>122</th>\n",
       "      <td>Valentines Day Gifts for Her Heart Earrigns Lo...</td>\n",
       "      <td>BSJELL</td>\n",
       "      <td>0.05</td>\n",
       "      <td>0.10</td>\n",
       "      <td>0.80</td>\n",
       "      <td>51.0</td>\n",
       "      <td>$</td>\n",
       "      <td>NaN</td>\n",
       "      <td>117</td>\n",
       "    </tr>\n",
       "    <tr>\n",
       "      <th>133</th>\n",
       "      <td>Valentines Day Cards for Kids- 24 Set of Butte...</td>\n",
       "      <td>AuroTops</td>\n",
       "      <td>0.10</td>\n",
       "      <td>0.05</td>\n",
       "      <td>0.70</td>\n",
       "      <td>49.0</td>\n",
       "      <td>$</td>\n",
       "      <td>NaN</td>\n",
       "      <td>104</td>\n",
       "    </tr>\n",
       "    <tr>\n",
       "      <th>158</th>\n",
       "      <td>Turandoss Valentines Day Gifts for Kids Girls ...</td>\n",
       "      <td>Turandoss</td>\n",
       "      <td>0.06</td>\n",
       "      <td>0.12</td>\n",
       "      <td>0.77</td>\n",
       "      <td>11041.0</td>\n",
       "      <td>$</td>\n",
       "      <td>NaN</td>\n",
       "      <td>102</td>\n",
       "    </tr>\n",
       "    <tr>\n",
       "      <th>165</th>\n",
       "      <td>HOME SMILE Ceramic Ring Dish Jewelry Tray for ...</td>\n",
       "      <td>HOME SMILE</td>\n",
       "      <td>0.03</td>\n",
       "      <td>0.09</td>\n",
       "      <td>0.87</td>\n",
       "      <td>24615.0</td>\n",
       "      <td>$</td>\n",
       "      <td>NaN</td>\n",
       "      <td>240</td>\n",
       "    </tr>\n",
       "    <tr>\n",
       "      <th>171</th>\n",
       "      <td>SOUR PATCH KIDS Original and Watermelon Soft &amp;...</td>\n",
       "      <td>Sour Patch Kids</td>\n",
       "      <td>0.04</td>\n",
       "      <td>0.10</td>\n",
       "      <td>0.83</td>\n",
       "      <td>461.0</td>\n",
       "      <td>$</td>\n",
       "      <td>NaN</td>\n",
       "      <td>247</td>\n",
       "    </tr>\n",
       "    <tr>\n",
       "      <th>173</th>\n",
       "      <td>Winlyn 112 Pcs Valentine's Day Stationery Toy ...</td>\n",
       "      <td>Winlyn</td>\n",
       "      <td>0.11</td>\n",
       "      <td>0.07</td>\n",
       "      <td>0.82</td>\n",
       "      <td>23.0</td>\n",
       "      <td>$</td>\n",
       "      <td>NaN</td>\n",
       "      <td>228</td>\n",
       "    </tr>\n",
       "    <tr>\n",
       "      <th>174</th>\n",
       "      <td>Iefil Valentines Day Gifts for Her - 925 Sterl...</td>\n",
       "      <td>Iefil</td>\n",
       "      <td>0.06</td>\n",
       "      <td>0.13</td>\n",
       "      <td>0.73</td>\n",
       "      <td>1487.0</td>\n",
       "      <td>$</td>\n",
       "      <td>NaN</td>\n",
       "      <td>285</td>\n",
       "    </tr>\n",
       "    <tr>\n",
       "      <th>185</th>\n",
       "      <td>VANLOVEMAC Valentines Day Gift Keychain for Hu...</td>\n",
       "      <td>VANLOVEMAC</td>\n",
       "      <td>0.03</td>\n",
       "      <td>0.08</td>\n",
       "      <td>0.86</td>\n",
       "      <td>4425.0</td>\n",
       "      <td>$</td>\n",
       "      <td>NaN</td>\n",
       "      <td>225</td>\n",
       "    </tr>\n",
       "    <tr>\n",
       "      <th>186</th>\n",
       "      <td>Shemira 30 Pack Valentines Day Cards for Kids ...</td>\n",
       "      <td>Shemira</td>\n",
       "      <td>0.08</td>\n",
       "      <td>0.07</td>\n",
       "      <td>0.77</td>\n",
       "      <td>95.0</td>\n",
       "      <td>$</td>\n",
       "      <td>NaN</td>\n",
       "      <td>288</td>\n",
       "    </tr>\n",
       "    <tr>\n",
       "      <th>189</th>\n",
       "      <td>Limited Edition M and M’s Milk Chocolate Bark,...</td>\n",
       "      <td>Morris National Inc</td>\n",
       "      <td>0.38</td>\n",
       "      <td>0.00</td>\n",
       "      <td>0.62</td>\n",
       "      <td>3.0</td>\n",
       "      <td>$</td>\n",
       "      <td>NaN</td>\n",
       "      <td>261</td>\n",
       "    </tr>\n",
       "    <tr>\n",
       "      <th>190</th>\n",
       "      <td>DEEMEI Valentines Day Gifts for Her, Valentine...</td>\n",
       "      <td>DEEMEI</td>\n",
       "      <td>0.03</td>\n",
       "      <td>0.10</td>\n",
       "      <td>0.84</td>\n",
       "      <td>1494.0</td>\n",
       "      <td>$</td>\n",
       "      <td>NaN</td>\n",
       "      <td>272</td>\n",
       "    </tr>\n",
       "    <tr>\n",
       "      <th>191</th>\n",
       "      <td>Hershys Milk Chocolate Candy Valentines Day Gi...</td>\n",
       "      <td>CHAIN &amp; JO SWEETS</td>\n",
       "      <td>0.00</td>\n",
       "      <td>0.00</td>\n",
       "      <td>1.00</td>\n",
       "      <td>2.0</td>\n",
       "      <td>$</td>\n",
       "      <td>NaN</td>\n",
       "      <td>278</td>\n",
       "    </tr>\n",
       "    <tr>\n",
       "      <th>193</th>\n",
       "      <td>Vegan Valentine's Day Gift Bag - Prefilled Bag...</td>\n",
       "      <td>BUNNY · JAMES ·</td>\n",
       "      <td>0.12</td>\n",
       "      <td>0.10</td>\n",
       "      <td>0.65</td>\n",
       "      <td>153.0</td>\n",
       "      <td>$</td>\n",
       "      <td>NaN</td>\n",
       "      <td>260</td>\n",
       "    </tr>\n",
       "    <tr>\n",
       "      <th>194</th>\n",
       "      <td>Hershys Milk Chocolate Hearts Bar 2.5oz - 6PK ...</td>\n",
       "      <td>CHAIN &amp; JO SWEETS</td>\n",
       "      <td>0.00</td>\n",
       "      <td>0.00</td>\n",
       "      <td>1.00</td>\n",
       "      <td>1.0</td>\n",
       "      <td>$</td>\n",
       "      <td>NaN</td>\n",
       "      <td>283</td>\n",
       "    </tr>\n",
       "    <tr>\n",
       "      <th>214</th>\n",
       "      <td>THEMEROL Natural Gemstone Bracelet Gifts for D...</td>\n",
       "      <td>THEMEROL</td>\n",
       "      <td>0.03</td>\n",
       "      <td>0.07</td>\n",
       "      <td>0.87</td>\n",
       "      <td>140.0</td>\n",
       "      <td>$</td>\n",
       "      <td>NaN</td>\n",
       "      <td>300</td>\n",
       "    </tr>\n",
       "  </tbody>\n",
       "</table>\n",
       "</div>"
      ],
      "text/plain": [
       "                                                 title                  brand  \\\n",
       "16   I LOVE YOU Red Valentine Chocolate Dipped Oreo...  Olde Naples Chocolate   \n",
       "18   Ferrero Collection, 12 Count, Assorted Milk an...         Ferrero Rocher   \n",
       "20   Marycele Candle Warmer Lamp, Electric Candle L...               Marycele   \n",
       "24   SKITTLES Valentine's Day Wild Berry Chewy Cand...               Skittles   \n",
       "27   EGD Acrylic Personalized Gifts Spotify Plaque ...                    EGD   \n",
       "29   Burt's Bees Essential Everyday Beauty Valentin...            Burt's Bees   \n",
       "33   Candles Gifts for Her Funny Novelty Unique Val...                BFJLIFE   \n",
       "36   EBMORE Womens Fuzzy Socks Slipper Soft Cabin P...                 EBMORE   \n",
       "38   Valentine's Day Gift Care Package (50ct) Snack...               CRAVEBOX   \n",
       "39   LUCKOR Personalized Valentines Day Gifts for H...                 LUCKOR   \n",
       "41   LEGO Heart Ornament Building Toy Kit, Heart Sh...                   LEGO   \n",
       "42   HERSHEY'S and REESE'S Assorted Chocolate, Vale...              HERSHEY'S   \n",
       "43   Ferrero Rocher, 42 Count, Gourmet Milk Chocola...         Ferrero Rocher   \n",
       "46   LEGO Icons Wildflower Bouquet Botanical Collec...                   LEGO   \n",
       "51   Valentine’s Candy Variety Pack 18 Count: Bulk ...   Bazooka Candy Brands   \n",
       "52   Valentines Day Gifts Movie Night Popcorn Gift ...           Pop n' Dulge   \n",
       "54   BAIMEI Jade Roller & Gua Sha, Face Roller Redn...                 BAIMEI   \n",
       "57   Gifts for Women, Unique Spa Gift Basket Set fo...                MADDIFY   \n",
       "59   Nut Cravings Gourmet Collection - Valentines D...           Nut Cravings   \n",
       "60   ChunRun Valentines Day Gifts - Drive Safe Keyc...                ChunRun   \n",
       "63   REESESValentines Day Milk Chocolate Peanut But...      CHAIN & JO SWEETS   \n",
       "64   Starburst All Pink Chewy Candy Variety Pack Va...              JO SWEETS   \n",
       "72   Shower Steamers Aromatherapy Valentines Day Gi...                SWCANDY   \n",
       "77   Childom Valentines Day Gifts for Her,Birthday ...                Childom   \n",
       "84   ChocZero Keto Chocolate Truffle Gift - Premium...               ChocZero   \n",
       "85   HERSHEY'S HUGS & KISSES Assorted Flavored, Val...              HERSHEY'S   \n",
       "86   Kinder Bueno Mini, Milk Chocolate and Hazelnut...           Kinder Bueno   \n",
       "89   Gifts for Women, Mom - Relaxing Spa Gift Baske...                  CITTA   \n",
       "95   Ferrero Collection, 16 Count, Assorted Milk an...         Ferrero Rocher   \n",
       "96   28 Packs Valentines Day Greeting Cards with Cu...                DINESIL   \n",
       "107  Pusuny Valentines Day Gifts for Her, Galaxy Gl...                 Pusuny   \n",
       "115  Valentines Day Gifts for Her Preserved Red Rea...                 TRAALL   \n",
       "116  Inspirational Bracelets for Women Natural Ston...          Pingyongchang   \n",
       "119  LParkin Drive Safe Keychain Handsome I Love Yo...                LParkin   \n",
       "122  Valentines Day Gifts for Her Heart Earrigns Lo...                 BSJELL   \n",
       "133  Valentines Day Cards for Kids- 24 Set of Butte...               AuroTops   \n",
       "158  Turandoss Valentines Day Gifts for Kids Girls ...              Turandoss   \n",
       "165  HOME SMILE Ceramic Ring Dish Jewelry Tray for ...             HOME SMILE   \n",
       "171  SOUR PATCH KIDS Original and Watermelon Soft &...        Sour Patch Kids   \n",
       "173  Winlyn 112 Pcs Valentine's Day Stationery Toy ...                 Winlyn   \n",
       "174  Iefil Valentines Day Gifts for Her - 925 Sterl...                  Iefil   \n",
       "185  VANLOVEMAC Valentines Day Gift Keychain for Hu...             VANLOVEMAC   \n",
       "186  Shemira 30 Pack Valentines Day Cards for Kids ...                Shemira   \n",
       "189  Limited Edition M and M’s Milk Chocolate Bark,...    Morris National Inc   \n",
       "190  DEEMEI Valentines Day Gifts for Her, Valentine...                 DEEMEI   \n",
       "191  Hershys Milk Chocolate Candy Valentines Day Gi...      CHAIN & JO SWEETS   \n",
       "193  Vegan Valentine's Day Gift Bag - Prefilled Bag...        BUNNY · JAMES ·   \n",
       "194  Hershys Milk Chocolate Hearts Bar 2.5oz - 6PK ...      CHAIN & JO SWEETS   \n",
       "214  THEMEROL Natural Gemstone Bracelet Gifts for D...               THEMEROL   \n",
       "\n",
       "     starsBreakdown/3star  starsBreakdown/4star  starsBreakdown/5star  \\\n",
       "16                   0.07                  0.10                  0.74   \n",
       "18                   0.04                  0.09                  0.84   \n",
       "20                   0.05                  0.07                  0.78   \n",
       "24                   0.05                  0.10                  0.79   \n",
       "27                   0.06                  0.10                  0.72   \n",
       "29                   0.04                  0.11                  0.83   \n",
       "33                   0.07                  0.12                  0.73   \n",
       "36                   0.04                  0.10                  0.82   \n",
       "38                   0.06                  0.11                  0.77   \n",
       "39                   0.04                  0.08                  0.75   \n",
       "41                   0.02                  0.07                  0.87   \n",
       "42                   0.04                  0.09                  0.84   \n",
       "43                   0.02                  0.06                  0.89   \n",
       "46                   0.01                  0.04                  0.94   \n",
       "51                   0.03                  0.08                  0.86   \n",
       "52                   0.09                  0.15                  0.69   \n",
       "54                   0.06                  0.14                  0.77   \n",
       "57                   0.04                  0.17                  0.77   \n",
       "59                   0.06                  0.12                  0.70   \n",
       "60                   0.04                  0.06                  0.85   \n",
       "63                   0.06                  0.09                  0.67   \n",
       "64                   0.07                  0.13                  0.50   \n",
       "72                   0.09                  0.10                  0.72   \n",
       "77                   0.04                  0.10                  0.83   \n",
       "84                   0.05                  0.10                  0.77   \n",
       "85                   0.04                  0.09                  0.85   \n",
       "86                   0.02                  0.06                  0.88   \n",
       "89                   0.02                  0.08                  0.88   \n",
       "95                   0.03                  0.09                  0.85   \n",
       "96                   0.09                  0.15                  0.70   \n",
       "107                  0.06                  0.10                  0.80   \n",
       "115                  0.04                  0.06                  0.85   \n",
       "116                  0.03                  0.12                  0.80   \n",
       "119                  0.03                  0.08                  0.88   \n",
       "122                  0.05                  0.10                  0.80   \n",
       "133                  0.10                  0.05                  0.70   \n",
       "158                  0.06                  0.12                  0.77   \n",
       "165                  0.03                  0.09                  0.87   \n",
       "171                  0.04                  0.10                  0.83   \n",
       "173                  0.11                  0.07                  0.82   \n",
       "174                  0.06                  0.13                  0.73   \n",
       "185                  0.03                  0.08                  0.86   \n",
       "186                  0.08                  0.07                  0.77   \n",
       "189                  0.38                  0.00                  0.62   \n",
       "190                  0.03                  0.10                  0.84   \n",
       "191                  0.00                  0.00                  1.00   \n",
       "193                  0.12                  0.10                  0.65   \n",
       "194                  0.00                  0.00                  1.00   \n",
       "214                  0.03                  0.07                  0.87   \n",
       "\n",
       "     reviewsCount price/currency  price/value  \\\n",
       "16          474.0              $          NaN   \n",
       "18         4770.0              $          NaN   \n",
       "20         1121.0              $          NaN   \n",
       "24        19772.0              $          NaN   \n",
       "27         4717.0              $          NaN   \n",
       "29        40125.0              $          NaN   \n",
       "33          316.0              $          NaN   \n",
       "36         3214.0              $          NaN   \n",
       "38         2637.0              $          NaN   \n",
       "39          398.0              $          NaN   \n",
       "41          401.0              $          NaN   \n",
       "42         1586.0              $          NaN   \n",
       "43         9659.0              $          NaN   \n",
       "46         3510.0              $          NaN   \n",
       "51        27866.0              $          NaN   \n",
       "52          522.0              $          NaN   \n",
       "54        54895.0              $          NaN   \n",
       "57          132.0              $          NaN   \n",
       "59        19537.0              $          NaN   \n",
       "60           54.0              $          NaN   \n",
       "63          161.0              $          NaN   \n",
       "64           63.0              $          NaN   \n",
       "72         3082.0              $          NaN   \n",
       "77        18440.0              $          NaN   \n",
       "84          370.0              $          NaN   \n",
       "85         1647.0              $          NaN   \n",
       "86        11111.0              $          NaN   \n",
       "89          567.0              $          NaN   \n",
       "95        29239.0              $          NaN   \n",
       "96          215.0              $          NaN   \n",
       "107         578.0              $          NaN   \n",
       "115         140.0              $          NaN   \n",
       "116          98.0              $          NaN   \n",
       "119       11974.0              $          NaN   \n",
       "122          51.0              $          NaN   \n",
       "133          49.0              $          NaN   \n",
       "158       11041.0              $          NaN   \n",
       "165       24615.0              $          NaN   \n",
       "171         461.0              $          NaN   \n",
       "173          23.0              $          NaN   \n",
       "174        1487.0              $          NaN   \n",
       "185        4425.0              $          NaN   \n",
       "186          95.0              $          NaN   \n",
       "189           3.0              $          NaN   \n",
       "190        1494.0              $          NaN   \n",
       "191           2.0              $          NaN   \n",
       "193         153.0              $          NaN   \n",
       "194           1.0              $          NaN   \n",
       "214         140.0              $          NaN   \n",
       "\n",
       "     categoryPageData/productPosition  \n",
       "16                                 34  \n",
       "18                                 38  \n",
       "20                                 47  \n",
       "24                                 30  \n",
       "27                                 25  \n",
       "29                                 39  \n",
       "33                                 23  \n",
       "36                                 28  \n",
       "38                                 17  \n",
       "39                                  9  \n",
       "41                                 13  \n",
       "42                                  6  \n",
       "43                                 12  \n",
       "46                                  8  \n",
       "51                                 54  \n",
       "52                                 53  \n",
       "54                                 58  \n",
       "57                                 60  \n",
       "59                                 93  \n",
       "60                                 52  \n",
       "63                                 91  \n",
       "64                                 85  \n",
       "72                                 76  \n",
       "77                                 69  \n",
       "84                                 64  \n",
       "85                                 61  \n",
       "86                                 63  \n",
       "89                                 81  \n",
       "95                                 86  \n",
       "96                                 80  \n",
       "107                               110  \n",
       "115                               122  \n",
       "116                               131  \n",
       "119                               115  \n",
       "122                               117  \n",
       "133                               104  \n",
       "158                               102  \n",
       "165                               240  \n",
       "171                               247  \n",
       "173                               228  \n",
       "174                               285  \n",
       "185                               225  \n",
       "186                               288  \n",
       "189                               261  \n",
       "190                               272  \n",
       "191                               278  \n",
       "193                               260  \n",
       "194                               283  \n",
       "214                               300  "
      ]
     },
     "execution_count": 14,
     "metadata": {},
     "output_type": "execute_result"
    }
   ],
   "source": [
    "data[data[\"price/value\"].isnull()]"
   ]
  },
  {
   "cell_type": "code",
   "execution_count": 15,
   "metadata": {
    "execution": {
     "iopub.execute_input": "2024-02-08T07:26:05.043414Z",
     "iopub.status.busy": "2024-02-08T07:26:05.043002Z",
     "iopub.status.idle": "2024-02-08T07:26:05.054530Z",
     "shell.execute_reply": "2024-02-08T07:26:05.053362Z",
     "shell.execute_reply.started": "2024-02-08T07:26:05.043377Z"
    }
   },
   "outputs": [
    {
     "data": {
      "text/plain": [
       "18.05"
      ]
     },
     "execution_count": 15,
     "metadata": {},
     "output_type": "execute_result"
    }
   ],
   "source": [
    "a = data[\"price/value\"].mean()\n",
    "b = round(a,2)\n",
    "b"
   ]
  },
  {
   "cell_type": "code",
   "execution_count": 16,
   "metadata": {
    "execution": {
     "iopub.execute_input": "2024-02-08T07:26:05.290414Z",
     "iopub.status.busy": "2024-02-08T07:26:05.290029Z",
     "iopub.status.idle": "2024-02-08T07:26:05.297339Z",
     "shell.execute_reply": "2024-02-08T07:26:05.295875Z",
     "shell.execute_reply.started": "2024-02-08T07:26:05.290384Z"
    }
   },
   "outputs": [],
   "source": [
    "data[\"price/value\"].fillna(b,inplace = True)"
   ]
  },
  {
   "cell_type": "code",
   "execution_count": 17,
   "metadata": {
    "execution": {
     "iopub.execute_input": "2024-02-08T07:26:05.549892Z",
     "iopub.status.busy": "2024-02-08T07:26:05.549157Z",
     "iopub.status.idle": "2024-02-08T07:26:05.558089Z",
     "shell.execute_reply": "2024-02-08T07:26:05.556778Z",
     "shell.execute_reply.started": "2024-02-08T07:26:05.549855Z"
    }
   },
   "outputs": [
    {
     "data": {
      "text/plain": [
       "0"
      ]
     },
     "execution_count": 17,
     "metadata": {},
     "output_type": "execute_result"
    }
   ],
   "source": [
    "data[\"price/value\"].isnull().sum()"
   ]
  },
  {
   "cell_type": "code",
   "execution_count": 18,
   "metadata": {
    "execution": {
     "iopub.execute_input": "2024-02-08T07:26:05.817360Z",
     "iopub.status.busy": "2024-02-08T07:26:05.816963Z",
     "iopub.status.idle": "2024-02-08T07:26:05.825553Z",
     "shell.execute_reply": "2024-02-08T07:26:05.824763Z",
     "shell.execute_reply.started": "2024-02-08T07:26:05.817330Z"
    }
   },
   "outputs": [
    {
     "data": {
      "text/plain": [
       "title                               0\n",
       "brand                               1\n",
       "starsBreakdown/3star                0\n",
       "starsBreakdown/4star                0\n",
       "starsBreakdown/5star                0\n",
       "reviewsCount                        2\n",
       "price/currency                      0\n",
       "price/value                         0\n",
       "categoryPageData/productPosition    0\n",
       "dtype: int64"
      ]
     },
     "execution_count": 18,
     "metadata": {},
     "output_type": "execute_result"
    }
   ],
   "source": [
    "data.isnull().sum()"
   ]
  },
  {
   "cell_type": "code",
   "execution_count": 19,
   "metadata": {
    "execution": {
     "iopub.execute_input": "2024-02-08T07:26:06.115191Z",
     "iopub.status.busy": "2024-02-08T07:26:06.114823Z",
     "iopub.status.idle": "2024-02-08T07:26:06.121474Z",
     "shell.execute_reply": "2024-02-08T07:26:06.120511Z",
     "shell.execute_reply.started": "2024-02-08T07:26:06.115161Z"
    }
   },
   "outputs": [],
   "source": [
    "data1 = data[~(data.brand.isnull() | data[\"reviewsCount\"].isnull())]"
   ]
  },
  {
   "cell_type": "code",
   "execution_count": 20,
   "metadata": {
    "execution": {
     "iopub.execute_input": "2024-02-08T07:26:06.382926Z",
     "iopub.status.busy": "2024-02-08T07:26:06.382519Z",
     "iopub.status.idle": "2024-02-08T07:26:06.389224Z",
     "shell.execute_reply": "2024-02-08T07:26:06.388322Z",
     "shell.execute_reply.started": "2024-02-08T07:26:06.382894Z"
    }
   },
   "outputs": [
    {
     "data": {
      "text/plain": [
       "(215, 9)"
      ]
     },
     "execution_count": 20,
     "metadata": {},
     "output_type": "execute_result"
    }
   ],
   "source": [
    "data1.shape"
   ]
  },
  {
   "cell_type": "code",
   "execution_count": 21,
   "metadata": {
    "execution": {
     "iopub.execute_input": "2024-02-08T07:26:06.670637Z",
     "iopub.status.busy": "2024-02-08T07:26:06.669520Z",
     "iopub.status.idle": "2024-02-08T07:26:06.677312Z",
     "shell.execute_reply": "2024-02-08T07:26:06.676028Z",
     "shell.execute_reply.started": "2024-02-08T07:26:06.670595Z"
    }
   },
   "outputs": [
    {
     "data": {
      "text/plain": [
       "Index(['title', 'brand', 'starsBreakdown/3star', 'starsBreakdown/4star',\n",
       "       'starsBreakdown/5star', 'reviewsCount', 'price/currency', 'price/value',\n",
       "       'categoryPageData/productPosition'],\n",
       "      dtype='object')"
      ]
     },
     "execution_count": 21,
     "metadata": {},
     "output_type": "execute_result"
    }
   ],
   "source": [
    "data1.columns"
   ]
  },
  {
   "cell_type": "code",
   "execution_count": 22,
   "metadata": {
    "execution": {
     "iopub.execute_input": "2024-02-08T07:26:06.984736Z",
     "iopub.status.busy": "2024-02-08T07:26:06.983656Z",
     "iopub.status.idle": "2024-02-08T07:26:06.992043Z",
     "shell.execute_reply": "2024-02-08T07:26:06.990828Z",
     "shell.execute_reply.started": "2024-02-08T07:26:06.984684Z"
    }
   },
   "outputs": [],
   "source": [
    "data1.drop(['categoryPageData/productPosition'], axis = 1, inplace = True)"
   ]
  },
  {
   "cell_type": "code",
   "execution_count": 23,
   "metadata": {
    "execution": {
     "iopub.execute_input": "2024-02-08T07:26:07.287236Z",
     "iopub.status.busy": "2024-02-08T07:26:07.286863Z",
     "iopub.status.idle": "2024-02-08T07:26:07.294831Z",
     "shell.execute_reply": "2024-02-08T07:26:07.293372Z",
     "shell.execute_reply.started": "2024-02-08T07:26:07.287198Z"
    }
   },
   "outputs": [],
   "source": [
    "data1.drop([\"price/currency\"], axis = 1, inplace = True)"
   ]
  },
  {
   "cell_type": "code",
   "execution_count": 24,
   "metadata": {
    "execution": {
     "iopub.execute_input": "2024-02-08T07:26:07.639943Z",
     "iopub.status.busy": "2024-02-08T07:26:07.639515Z",
     "iopub.status.idle": "2024-02-08T07:26:07.658043Z",
     "shell.execute_reply": "2024-02-08T07:26:07.656643Z",
     "shell.execute_reply.started": "2024-02-08T07:26:07.639908Z"
    }
   },
   "outputs": [
    {
     "data": {
      "text/html": [
       "<div>\n",
       "<style scoped>\n",
       "    .dataframe tbody tr th:only-of-type {\n",
       "        vertical-align: middle;\n",
       "    }\n",
       "\n",
       "    .dataframe tbody tr th {\n",
       "        vertical-align: top;\n",
       "    }\n",
       "\n",
       "    .dataframe thead th {\n",
       "        text-align: right;\n",
       "    }\n",
       "</style>\n",
       "<table border=\"1\" class=\"dataframe\">\n",
       "  <thead>\n",
       "    <tr style=\"text-align: right;\">\n",
       "      <th></th>\n",
       "      <th>title</th>\n",
       "      <th>brand</th>\n",
       "      <th>starsBreakdown/3star</th>\n",
       "      <th>starsBreakdown/4star</th>\n",
       "      <th>starsBreakdown/5star</th>\n",
       "      <th>reviewsCount</th>\n",
       "      <th>price/value</th>\n",
       "    </tr>\n",
       "  </thead>\n",
       "  <tbody>\n",
       "    <tr>\n",
       "      <th>0</th>\n",
       "      <td>Ferrero Rocher, 24 Count, Premium Milk Chocola...</td>\n",
       "      <td>Ferrero Rocher</td>\n",
       "      <td>0.02</td>\n",
       "      <td>0.07</td>\n",
       "      <td>0.89</td>\n",
       "      <td>20021.0</td>\n",
       "      <td>11.39</td>\n",
       "    </tr>\n",
       "    <tr>\n",
       "      <th>1</th>\n",
       "      <td>HERSHEY'S NUGGETS Assorted Chocolate, Valentin...</td>\n",
       "      <td>HERSHEY'S</td>\n",
       "      <td>0.03</td>\n",
       "      <td>0.10</td>\n",
       "      <td>0.84</td>\n",
       "      <td>18891.0</td>\n",
       "      <td>10.69</td>\n",
       "    </tr>\n",
       "    <tr>\n",
       "      <th>2</th>\n",
       "      <td>LEGO Icons Flower Bouquet Building Decoration ...</td>\n",
       "      <td>LEGO</td>\n",
       "      <td>0.01</td>\n",
       "      <td>0.05</td>\n",
       "      <td>0.92</td>\n",
       "      <td>19395.0</td>\n",
       "      <td>47.99</td>\n",
       "    </tr>\n",
       "    <tr>\n",
       "      <th>3</th>\n",
       "      <td>BodyRefresh Shower Steamers Aromatherapy - 8 P...</td>\n",
       "      <td>BodyRefresh</td>\n",
       "      <td>0.07</td>\n",
       "      <td>0.15</td>\n",
       "      <td>0.67</td>\n",
       "      <td>593.0</td>\n",
       "      <td>9.99</td>\n",
       "    </tr>\n",
       "    <tr>\n",
       "      <th>4</th>\n",
       "      <td>JoJowell Shower Steamers Aromatherapy - 21Pcs ...</td>\n",
       "      <td>JoJowell</td>\n",
       "      <td>0.10</td>\n",
       "      <td>0.15</td>\n",
       "      <td>0.63</td>\n",
       "      <td>816.0</td>\n",
       "      <td>21.99</td>\n",
       "    </tr>\n",
       "  </tbody>\n",
       "</table>\n",
       "</div>"
      ],
      "text/plain": [
       "                                               title           brand  \\\n",
       "0  Ferrero Rocher, 24 Count, Premium Milk Chocola...  Ferrero Rocher   \n",
       "1  HERSHEY'S NUGGETS Assorted Chocolate, Valentin...       HERSHEY'S   \n",
       "2  LEGO Icons Flower Bouquet Building Decoration ...            LEGO   \n",
       "3  BodyRefresh Shower Steamers Aromatherapy - 8 P...     BodyRefresh   \n",
       "4  JoJowell Shower Steamers Aromatherapy - 21Pcs ...        JoJowell   \n",
       "\n",
       "   starsBreakdown/3star  starsBreakdown/4star  starsBreakdown/5star  \\\n",
       "0                  0.02                  0.07                  0.89   \n",
       "1                  0.03                  0.10                  0.84   \n",
       "2                  0.01                  0.05                  0.92   \n",
       "3                  0.07                  0.15                  0.67   \n",
       "4                  0.10                  0.15                  0.63   \n",
       "\n",
       "   reviewsCount  price/value  \n",
       "0       20021.0        11.39  \n",
       "1       18891.0        10.69  \n",
       "2       19395.0        47.99  \n",
       "3         593.0         9.99  \n",
       "4         816.0        21.99  "
      ]
     },
     "execution_count": 24,
     "metadata": {},
     "output_type": "execute_result"
    }
   ],
   "source": [
    "data1.head()"
   ]
  },
  {
   "cell_type": "code",
   "execution_count": 25,
   "metadata": {
    "execution": {
     "iopub.execute_input": "2024-02-08T07:26:08.111364Z",
     "iopub.status.busy": "2024-02-08T07:26:08.110987Z",
     "iopub.status.idle": "2024-02-08T07:26:08.116701Z",
     "shell.execute_reply": "2024-02-08T07:26:08.115522Z",
     "shell.execute_reply.started": "2024-02-08T07:26:08.111336Z"
    }
   },
   "outputs": [],
   "source": [
    "import warnings\n",
    "warnings.filterwarnings(\"ignore\")"
   ]
  },
  {
   "cell_type": "code",
   "execution_count": 26,
   "metadata": {
    "execution": {
     "iopub.execute_input": "2024-02-08T08:24:59.324510Z",
     "iopub.status.busy": "2024-02-08T08:24:59.323780Z",
     "iopub.status.idle": "2024-02-08T08:24:59.670334Z",
     "shell.execute_reply": "2024-02-08T08:24:59.669283Z",
     "shell.execute_reply.started": "2024-02-08T08:24:59.324460Z"
    }
   },
   "outputs": [
    {
     "data": {
      "image/png": "[encoded data removed]",
      "text/plain": [
       "<Figure size 500x500 with 1 Axes>"
      ]
     },
     "metadata": {},
     "output_type": "display_data"
    }
   ],
   "source": [
    "sns.displot(data = data1, x = \"price/value\", bins = 30)\n",
    "plt.show()"
   ]
  },
  {
   "cell_type": "code",
   "execution_count": 27,
   "metadata": {
    "execution": {
     "iopub.execute_input": "2024-02-08T07:26:08.998654Z",
     "iopub.status.busy": "2024-02-08T07:26:08.998186Z",
     "iopub.status.idle": "2024-02-08T07:26:09.155645Z",
     "shell.execute_reply": "2024-02-08T07:26:09.154443Z",
     "shell.execute_reply.started": "2024-02-08T07:26:08.998615Z"
    }
   },
   "outputs": [
    {
     "data": {
      "image/png": "[encoded data removed]",
      "text/plain": [
       "<Figure size 640x480 with 1 Axes>"
      ]
     },
     "metadata": {},
     "output_type": "display_data"
    }
   ],
   "source": [
    "sns.boxplot(data = data1, x = \"price/value\")\n",
    "plt.show()"
   ]
  },
  {
   "cell_type": "code",
   "execution_count": 28,
   "metadata": {
    "execution": {
     "iopub.execute_input": "2024-02-08T07:26:09.412886Z",
     "iopub.status.busy": "2024-02-08T07:26:09.412446Z",
     "iopub.status.idle": "2024-02-08T07:26:09.433991Z",
     "shell.execute_reply": "2024-02-08T07:26:09.432735Z",
     "shell.execute_reply.started": "2024-02-08T07:26:09.412852Z"
    }
   },
   "outputs": [
    {
     "data": {
      "text/html": [
       "<div>\n",
       "<style scoped>\n",
       "    .dataframe tbody tr th:only-of-type {\n",
       "        vertical-align: middle;\n",
       "    }\n",
       "\n",
       "    .dataframe tbody tr th {\n",
       "        vertical-align: top;\n",
       "    }\n",
       "\n",
       "    .dataframe thead th {\n",
       "        text-align: right;\n",
       "    }\n",
       "</style>\n",
       "<table border=\"1\" class=\"dataframe\">\n",
       "  <thead>\n",
       "    <tr style=\"text-align: right;\">\n",
       "      <th></th>\n",
       "      <th>title</th>\n",
       "      <th>brand</th>\n",
       "      <th>starsBreakdown/3star</th>\n",
       "      <th>starsBreakdown/4star</th>\n",
       "      <th>starsBreakdown/5star</th>\n",
       "      <th>reviewsCount</th>\n",
       "      <th>price/value</th>\n",
       "    </tr>\n",
       "  </thead>\n",
       "  <tbody>\n",
       "    <tr>\n",
       "      <th>2</th>\n",
       "      <td>LEGO Icons Flower Bouquet Building Decoration ...</td>\n",
       "      <td>LEGO</td>\n",
       "      <td>0.01</td>\n",
       "      <td>0.05</td>\n",
       "      <td>0.92</td>\n",
       "      <td>19395.0</td>\n",
       "      <td>47.99</td>\n",
       "    </tr>\n",
       "    <tr>\n",
       "      <th>73</th>\n",
       "      <td>GLAMOUR BOUTIQUE 27-Piece Forever Flowers Hear...</td>\n",
       "      <td>GLAMOUR BOUTIQUE</td>\n",
       "      <td>0.04</td>\n",
       "      <td>0.07</td>\n",
       "      <td>0.81</td>\n",
       "      <td>559.0</td>\n",
       "      <td>79.95</td>\n",
       "    </tr>\n",
       "    <tr>\n",
       "      <th>105</th>\n",
       "      <td>Lebana Preserved Red Real Rose with I Love You...</td>\n",
       "      <td>Lebana</td>\n",
       "      <td>0.07</td>\n",
       "      <td>0.16</td>\n",
       "      <td>0.72</td>\n",
       "      <td>167.0</td>\n",
       "      <td>65.99</td>\n",
       "    </tr>\n",
       "    <tr>\n",
       "      <th>159</th>\n",
       "      <td>Valentines Day Gifts for Her,Valentines Rose B...</td>\n",
       "      <td>Dream of Flowers</td>\n",
       "      <td>0.06</td>\n",
       "      <td>0.12</td>\n",
       "      <td>0.77</td>\n",
       "      <td>4285.0</td>\n",
       "      <td>42.99</td>\n",
       "    </tr>\n",
       "    <tr>\n",
       "      <th>161</th>\n",
       "      <td>NEWNOVE Valentines Day Gifts for Her - Preserv...</td>\n",
       "      <td>NEWNOVE</td>\n",
       "      <td>0.05</td>\n",
       "      <td>0.12</td>\n",
       "      <td>0.80</td>\n",
       "      <td>2379.0</td>\n",
       "      <td>43.99</td>\n",
       "    </tr>\n",
       "    <tr>\n",
       "      <th>179</th>\n",
       "      <td>SKPAND Handmade Romantic Gifts for Her Anniver...</td>\n",
       "      <td>SKPAND</td>\n",
       "      <td>0.05</td>\n",
       "      <td>0.13</td>\n",
       "      <td>0.77</td>\n",
       "      <td>244.0</td>\n",
       "      <td>62.66</td>\n",
       "    </tr>\n",
       "    <tr>\n",
       "      <th>184</th>\n",
       "      <td>Godiva Chocolatier Valentine's Day Assorted Ch...</td>\n",
       "      <td>Godiva Chocolatier</td>\n",
       "      <td>0.02</td>\n",
       "      <td>0.08</td>\n",
       "      <td>0.84</td>\n",
       "      <td>391.0</td>\n",
       "      <td>66.00</td>\n",
       "    </tr>\n",
       "    <tr>\n",
       "      <th>201</th>\n",
       "      <td>Valentines Day Flowers Roses Gifts for Her,16p...</td>\n",
       "      <td>Roseshy</td>\n",
       "      <td>0.00</td>\n",
       "      <td>0.03</td>\n",
       "      <td>0.95</td>\n",
       "      <td>113.0</td>\n",
       "      <td>49.49</td>\n",
       "    </tr>\n",
       "    <tr>\n",
       "      <th>205</th>\n",
       "      <td>DENIMOMO Valentines Day Rose Flowers Gifts for...</td>\n",
       "      <td>DENIMOMO</td>\n",
       "      <td>0.06</td>\n",
       "      <td>0.11</td>\n",
       "      <td>0.79</td>\n",
       "      <td>178.0</td>\n",
       "      <td>49.99</td>\n",
       "    </tr>\n",
       "  </tbody>\n",
       "</table>\n",
       "</div>"
      ],
      "text/plain": [
       "                                                 title               brand  \\\n",
       "2    LEGO Icons Flower Bouquet Building Decoration ...                LEGO   \n",
       "73   GLAMOUR BOUTIQUE 27-Piece Forever Flowers Hear...    GLAMOUR BOUTIQUE   \n",
       "105  Lebana Preserved Red Real Rose with I Love You...              Lebana   \n",
       "159  Valentines Day Gifts for Her,Valentines Rose B...    Dream of Flowers   \n",
       "161  NEWNOVE Valentines Day Gifts for Her - Preserv...             NEWNOVE   \n",
       "179  SKPAND Handmade Romantic Gifts for Her Anniver...              SKPAND   \n",
       "184  Godiva Chocolatier Valentine's Day Assorted Ch...  Godiva Chocolatier   \n",
       "201  Valentines Day Flowers Roses Gifts for Her,16p...             Roseshy   \n",
       "205  DENIMOMO Valentines Day Rose Flowers Gifts for...            DENIMOMO   \n",
       "\n",
       "     starsBreakdown/3star  starsBreakdown/4star  starsBreakdown/5star  \\\n",
       "2                    0.01                  0.05                  0.92   \n",
       "73                   0.04                  0.07                  0.81   \n",
       "105                  0.07                  0.16                  0.72   \n",
       "159                  0.06                  0.12                  0.77   \n",
       "161                  0.05                  0.12                  0.80   \n",
       "179                  0.05                  0.13                  0.77   \n",
       "184                  0.02                  0.08                  0.84   \n",
       "201                  0.00                  0.03                  0.95   \n",
       "205                  0.06                  0.11                  0.79   \n",
       "\n",
       "     reviewsCount  price/value  \n",
       "2         19395.0        47.99  \n",
       "73          559.0        79.95  \n",
       "105         167.0        65.99  \n",
       "159        4285.0        42.99  \n",
       "161        2379.0        43.99  \n",
       "179         244.0        62.66  \n",
       "184         391.0        66.00  \n",
       "201         113.0        49.49  \n",
       "205         178.0        49.99  "
      ]
     },
     "execution_count": 28,
     "metadata": {},
     "output_type": "execute_result"
    }
   ],
   "source": [
    "data1[data[\"price/value\"]>40]"
   ]
  },
  {
   "cell_type": "code",
   "execution_count": 29,
   "metadata": {
    "execution": {
     "iopub.execute_input": "2024-02-08T07:26:09.829116Z",
     "iopub.status.busy": "2024-02-08T07:26:09.828701Z",
     "iopub.status.idle": "2024-02-08T07:26:09.840712Z",
     "shell.execute_reply": "2024-02-08T07:26:09.839407Z",
     "shell.execute_reply.started": "2024-02-08T07:26:09.829076Z"
    }
   },
   "outputs": [],
   "source": [
    "data1['price_category'] = pd.qcut(data1['price/value'], q=3, labels=['Low', 'Medium', 'High'])\n"
   ]
  },
  {
   "cell_type": "code",
   "execution_count": 30,
   "metadata": {
    "execution": {
     "iopub.execute_input": "2024-02-08T07:26:10.284807Z",
     "iopub.status.busy": "2024-02-08T07:26:10.284379Z",
     "iopub.status.idle": "2024-02-08T07:26:10.307408Z",
     "shell.execute_reply": "2024-02-08T07:26:10.306430Z",
     "shell.execute_reply.started": "2024-02-08T07:26:10.284762Z"
    }
   },
   "outputs": [
    {
     "data": {
      "text/html": [
       "<div>\n",
       "<style scoped>\n",
       "    .dataframe tbody tr th:only-of-type {\n",
       "        vertical-align: middle;\n",
       "    }\n",
       "\n",
       "    .dataframe tbody tr th {\n",
       "        vertical-align: top;\n",
       "    }\n",
       "\n",
       "    .dataframe thead th {\n",
       "        text-align: right;\n",
       "    }\n",
       "</style>\n",
       "<table border=\"1\" class=\"dataframe\">\n",
       "  <thead>\n",
       "    <tr style=\"text-align: right;\">\n",
       "      <th></th>\n",
       "      <th>title</th>\n",
       "      <th>brand</th>\n",
       "      <th>starsBreakdown/3star</th>\n",
       "      <th>starsBreakdown/4star</th>\n",
       "      <th>starsBreakdown/5star</th>\n",
       "      <th>reviewsCount</th>\n",
       "      <th>price/value</th>\n",
       "      <th>price_category</th>\n",
       "    </tr>\n",
       "  </thead>\n",
       "  <tbody>\n",
       "    <tr>\n",
       "      <th>0</th>\n",
       "      <td>Ferrero Rocher, 24 Count, Premium Milk Chocola...</td>\n",
       "      <td>Ferrero Rocher</td>\n",
       "      <td>0.02</td>\n",
       "      <td>0.07</td>\n",
       "      <td>0.89</td>\n",
       "      <td>20021.0</td>\n",
       "      <td>11.39</td>\n",
       "      <td>Low</td>\n",
       "    </tr>\n",
       "    <tr>\n",
       "      <th>1</th>\n",
       "      <td>HERSHEY'S NUGGETS Assorted Chocolate, Valentin...</td>\n",
       "      <td>HERSHEY'S</td>\n",
       "      <td>0.03</td>\n",
       "      <td>0.10</td>\n",
       "      <td>0.84</td>\n",
       "      <td>18891.0</td>\n",
       "      <td>10.69</td>\n",
       "      <td>Low</td>\n",
       "    </tr>\n",
       "    <tr>\n",
       "      <th>2</th>\n",
       "      <td>LEGO Icons Flower Bouquet Building Decoration ...</td>\n",
       "      <td>LEGO</td>\n",
       "      <td>0.01</td>\n",
       "      <td>0.05</td>\n",
       "      <td>0.92</td>\n",
       "      <td>19395.0</td>\n",
       "      <td>47.99</td>\n",
       "      <td>High</td>\n",
       "    </tr>\n",
       "    <tr>\n",
       "      <th>3</th>\n",
       "      <td>BodyRefresh Shower Steamers Aromatherapy - 8 P...</td>\n",
       "      <td>BodyRefresh</td>\n",
       "      <td>0.07</td>\n",
       "      <td>0.15</td>\n",
       "      <td>0.67</td>\n",
       "      <td>593.0</td>\n",
       "      <td>9.99</td>\n",
       "      <td>Low</td>\n",
       "    </tr>\n",
       "    <tr>\n",
       "      <th>4</th>\n",
       "      <td>JoJowell Shower Steamers Aromatherapy - 21Pcs ...</td>\n",
       "      <td>JoJowell</td>\n",
       "      <td>0.10</td>\n",
       "      <td>0.15</td>\n",
       "      <td>0.63</td>\n",
       "      <td>816.0</td>\n",
       "      <td>21.99</td>\n",
       "      <td>High</td>\n",
       "    </tr>\n",
       "  </tbody>\n",
       "</table>\n",
       "</div>"
      ],
      "text/plain": [
       "                                               title           brand  \\\n",
       "0  Ferrero Rocher, 24 Count, Premium Milk Chocola...  Ferrero Rocher   \n",
       "1  HERSHEY'S NUGGETS Assorted Chocolate, Valentin...       HERSHEY'S   \n",
       "2  LEGO Icons Flower Bouquet Building Decoration ...            LEGO   \n",
       "3  BodyRefresh Shower Steamers Aromatherapy - 8 P...     BodyRefresh   \n",
       "4  JoJowell Shower Steamers Aromatherapy - 21Pcs ...        JoJowell   \n",
       "\n",
       "   starsBreakdown/3star  starsBreakdown/4star  starsBreakdown/5star  \\\n",
       "0                  0.02                  0.07                  0.89   \n",
       "1                  0.03                  0.10                  0.84   \n",
       "2                  0.01                  0.05                  0.92   \n",
       "3                  0.07                  0.15                  0.67   \n",
       "4                  0.10                  0.15                  0.63   \n",
       "\n",
       "   reviewsCount  price/value price_category  \n",
       "0       20021.0        11.39            Low  \n",
       "1       18891.0        10.69            Low  \n",
       "2       19395.0        47.99           High  \n",
       "3         593.0         9.99            Low  \n",
       "4         816.0        21.99           High  "
      ]
     },
     "execution_count": 30,
     "metadata": {},
     "output_type": "execute_result"
    }
   ],
   "source": [
    "data1.head()"
   ]
  },
  {
   "cell_type": "code",
   "execution_count": 31,
   "metadata": {
    "execution": {
     "iopub.execute_input": "2024-02-08T07:26:10.739062Z",
     "iopub.status.busy": "2024-02-08T07:26:10.738654Z",
     "iopub.status.idle": "2024-02-08T07:26:10.907834Z",
     "shell.execute_reply": "2024-02-08T07:26:10.906761Z",
     "shell.execute_reply.started": "2024-02-08T07:26:10.739029Z"
    }
   },
   "outputs": [
    {
     "data": {
      "image/png": "[encoded data removed]",
      "text/plain": [
       "<Figure size 640x480 with 1 Axes>"
      ]
     },
     "metadata": {},
     "output_type": "display_data"
    }
   ],
   "source": [
    "sns.countplot(x = \"price_category\", data = data1)\n",
    "plt.show()"
   ]
  },
  {
   "cell_type": "code",
   "execution_count": 32,
   "metadata": {
    "execution": {
     "iopub.execute_input": "2024-02-08T07:26:11.217255Z",
     "iopub.status.busy": "2024-02-08T07:26:11.216856Z",
     "iopub.status.idle": "2024-02-08T07:26:11.231188Z",
     "shell.execute_reply": "2024-02-08T07:26:11.229088Z",
     "shell.execute_reply.started": "2024-02-08T07:26:11.217204Z"
    }
   },
   "outputs": [
    {
     "name": "stdout",
     "output_type": "stream",
     "text": [
      "['Ferrero Rocher' 'grace & stella' \"Burt's Bees\" 'Bazooka Candy Brands'\n",
      " 'Body Restore' 'BAIMEI' 'HOME SMILE']\n"
     ]
    }
   ],
   "source": [
    "#top 10 review brands\n",
    "top_review = data1.reviewsCount.nlargest(10)\n",
    "top_brand = data1.loc[data1['reviewsCount'].isin(top_review), 'brand']\n",
    "print(top_brand.unique())"
   ]
  },
  {
   "cell_type": "code",
   "execution_count": 33,
   "metadata": {
    "execution": {
     "iopub.execute_input": "2024-02-08T07:26:11.905613Z",
     "iopub.status.busy": "2024-02-08T07:26:11.905056Z",
     "iopub.status.idle": "2024-02-08T07:26:11.914827Z",
     "shell.execute_reply": "2024-02-08T07:26:11.913568Z",
     "shell.execute_reply.started": "2024-02-08T07:26:11.905573Z"
    }
   },
   "outputs": [
    {
     "name": "stdout",
     "output_type": "stream",
     "text": [
      "['LEGO' 'GLAMOUR BOUTIQUE' 'Lebana' 'Dream of Flowers' 'NEWNOVE' 'SKPAND'\n",
      " 'Godiva Chocolatier' 'Roseshy' 'DENIMOMO' 'YWHL']\n"
     ]
    }
   ],
   "source": [
    "# Top 10 expensive brands\n",
    "top_price = data1[\"price/value\"].nlargest(10)\n",
    "top_brand_price = data1.loc[data1['price/value'].isin(top_price), 'brand']\n",
    "print(top_brand_price.unique())"
   ]
  },
  {
   "cell_type": "code",
   "execution_count": 34,
   "metadata": {
    "execution": {
     "iopub.execute_input": "2024-02-08T07:26:18.148590Z",
     "iopub.status.busy": "2024-02-08T07:26:18.147498Z",
     "iopub.status.idle": "2024-02-08T07:26:18.155361Z",
     "shell.execute_reply": "2024-02-08T07:26:18.154239Z",
     "shell.execute_reply.started": "2024-02-08T07:26:18.148550Z"
    }
   },
   "outputs": [
    {
     "data": {
      "text/plain": [
       "Index(['title', 'brand', 'starsBreakdown/3star', 'starsBreakdown/4star',\n",
       "       'starsBreakdown/5star', 'reviewsCount', 'price/value',\n",
       "       'price_category'],\n",
       "      dtype='object')"
      ]
     },
     "execution_count": 34,
     "metadata": {},
     "output_type": "execute_result"
    }
   ],
   "source": [
    "data1.columns"
   ]
  },
  {
   "cell_type": "code",
   "execution_count": 35,
   "metadata": {
    "execution": {
     "iopub.execute_input": "2024-02-08T07:26:19.302248Z",
     "iopub.status.busy": "2024-02-08T07:26:19.301884Z",
     "iopub.status.idle": "2024-02-08T07:26:19.570241Z",
     "shell.execute_reply": "2024-02-08T07:26:19.569012Z",
     "shell.execute_reply.started": "2024-02-08T07:26:19.302215Z"
    }
   },
   "outputs": [
    {
     "data": {
      "text/plain": [
       "<Axes: xlabel='price/value', ylabel='reviewsCount'>"
      ]
     },
     "execution_count": 35,
     "metadata": {},
     "output_type": "execute_result"
    },
    {
     "data": {
      "image/png": "[encoded data removed]",
      "text/plain": [
       "<Figure size 640x480 with 1 Axes>"
      ]
     },
     "metadata": {},
     "output_type": "display_data"
    }
   ],
   "source": [
    "sns.scatterplot(data=data1, x=\"price/value\", y=\"reviewsCount\")\n"
   ]
  },
  {
   "cell_type": "code",
   "execution_count": 36,
   "metadata": {
    "execution": {
     "iopub.execute_input": "2024-02-08T07:27:03.650670Z",
     "iopub.status.busy": "2024-02-08T07:27:03.649897Z",
     "iopub.status.idle": "2024-02-08T07:27:03.658370Z",
     "shell.execute_reply": "2024-02-08T07:27:03.657161Z",
     "shell.execute_reply.started": "2024-02-08T07:27:03.650632Z"
    }
   },
   "outputs": [
    {
     "data": {
      "text/plain": [
       "Index(['title', 'brand', 'starsBreakdown/3star', 'starsBreakdown/4star',\n",
       "       'starsBreakdown/5star', 'reviewsCount', 'price/value',\n",
       "       'price_category'],\n",
       "      dtype='object')"
      ]
     },
     "execution_count": 36,
     "metadata": {},
     "output_type": "execute_result"
    }
   ],
   "source": [
    "data1.columns"
   ]
  },
  {
   "cell_type": "code",
   "execution_count": 37,
   "metadata": {
    "execution": {
     "iopub.execute_input": "2024-02-08T07:40:10.513234Z",
     "iopub.status.busy": "2024-02-08T07:40:10.512832Z",
     "iopub.status.idle": "2024-02-08T07:40:10.742533Z",
     "shell.execute_reply": "2024-02-08T07:40:10.741276Z",
     "shell.execute_reply.started": "2024-02-08T07:40:10.513203Z"
    }
   },
   "outputs": [
    {
     "data": {
      "image/png": "[encoded data removed]",
      "text/plain": [
       "<Figure size 500x500 with 1 Axes>"
      ]
     },
     "metadata": {},
     "output_type": "display_data"
    }
   ],
   "source": [
    "plt.figure(figsize =(5,5))\n",
    "sns.scatterplot(data=data1, x='price/value', y='starsBreakdown/5star')\n",
    "plt.show()\n"
   ]
  },
  {
   "cell_type": "code",
   "execution_count": 38,
   "metadata": {
    "execution": {
     "iopub.execute_input": "2024-02-08T07:41:11.721213Z",
     "iopub.status.busy": "2024-02-08T07:41:11.720790Z",
     "iopub.status.idle": "2024-02-08T07:41:11.945113Z",
     "shell.execute_reply": "2024-02-08T07:41:11.943594Z",
     "shell.execute_reply.started": "2024-02-08T07:41:11.721179Z"
    }
   },
   "outputs": [
    {
     "data": {
      "image/png": "[encoded data removed]",
      "text/plain": [
       "<Figure size 500x500 with 1 Axes>"
      ]
     },
     "metadata": {},
     "output_type": "display_data"
    }
   ],
   "source": [
    "plt.figure(figsize =(5,5))\n",
    "sns.scatterplot(data=data1, x='price/value', y='starsBreakdown/4star')\n",
    "plt.show()\n"
   ]
  },
  {
   "cell_type": "code",
   "execution_count": 39,
   "metadata": {
    "execution": {
     "iopub.execute_input": "2024-02-08T07:41:18.870601Z",
     "iopub.status.busy": "2024-02-08T07:41:18.869685Z",
     "iopub.status.idle": "2024-02-08T07:41:19.097975Z",
     "shell.execute_reply": "2024-02-08T07:41:19.096685Z",
     "shell.execute_reply.started": "2024-02-08T07:41:18.870564Z"
    }
   },
   "outputs": [
    {
     "data": {
      "image/png": "[encoded data removed]",
      "text/plain": [
       "<Figure size 500x500 with 1 Axes>"
      ]
     },
     "metadata": {},
     "output_type": "display_data"
    }
   ],
   "source": [
    "plt.figure(figsize =(5,5))\n",
    "sns.scatterplot(data=data1, x='price/value', y='starsBreakdown/3star')\n",
    "plt.show()\n"
   ]
  },
  {
   "cell_type": "code",
   "execution_count": 40,
   "metadata": {
    "execution": {
     "iopub.execute_input": "2024-02-08T07:42:24.566499Z",
     "iopub.status.busy": "2024-02-08T07:42:24.566071Z",
     "iopub.status.idle": "2024-02-08T07:42:24.915739Z",
     "shell.execute_reply": "2024-02-08T07:42:24.914275Z",
     "shell.execute_reply.started": "2024-02-08T07:42:24.566451Z"
    }
   },
   "outputs": [
    {
     "data": {
      "image/png": "[encoded data removed]",
      "text/plain": [
       "<Figure size 640x480 with 2 Axes>"
      ]
     },
     "metadata": {},
     "output_type": "display_data"
    }
   ],
   "source": [
    "res = data1[['starsBreakdown/3star', 'starsBreakdown/4star','starsBreakdown/5star', 'reviewsCount', 'price/value']].corr()\n",
    "sns.heatmap(res, annot = True, cmap = \"rocket_r\")\n",
    "plt.show()"
   ]
  },
  {
   "cell_type": "markdown",
   "metadata": {},
   "source": [
    "# Final Insight\n",
    "- Consumers tend to favor products priced between 10 and 20 dollar.\n",
    "- These brands are particularly popular due to their higher review counts, indicating greater consumer usage   Ferrero Rocher, Grace & Stella, Burt's Bees, Bazooka Candy Brands, Body Restore, BAIMEI, and HOME SMILE.\"\n",
    "- Among the listed brands, LEGO, GLAMOUR BOUTIQUE, Lebana, Dream of Flowers, NEWNOVE, SKPAND, Godiva      Chocolatier, Roseshy, DENIMOMO, and YWHL fall into the category of expensive brands.\"\n",
    "- It's worth noting that a higher price for a product doesn't necessarily gurantee with higher 5star counts.\"\n",
    "\n",
    "\n",
    "\n",
    "\n"
   ]
  },
  {
   "cell_type": "code",
   "execution_count": null,
   "metadata": {},
   "outputs": [],
   "source": []
  }
 ],
 "metadata": {
  "kaggle": {
   "accelerator": "none",
   "dataSources": [
    {
     "datasetId": 4409989,
     "sourceId": 7574373,
     "sourceType": "datasetVersion"
    }
   ],
   "dockerImageVersionId": 30646,
   "isGpuEnabled": false,
   "isInternetEnabled": true,
   "language": "python",
   "sourceType": "notebook"
  },
  "kernelspec": {
   "display_name": "Python 3 (ipykernel)",
   "language": "python",
   "name": "python3"
  },
  "language_info": {
   "codemirror_mode": {
    "name": "ipython",
    "version": 3
   },
   "file_extension": ".py",
   "mimetype": "text/x-python",
   "name": "python",
   "nbconvert_exporter": "python",
   "pygments_lexer": "ipython3",
   "version": "3.11.4"
  }
 },
 "nbformat": 4,
 "nbformat_minor": 4
}
